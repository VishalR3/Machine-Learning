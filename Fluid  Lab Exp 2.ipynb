{
 "cells": [
  {
   "cell_type": "code",
   "execution_count": 1,
   "metadata": {},
   "outputs": [],
   "source": [
    "import numpy as np\n",
    "import pandas as pd\n",
    "import matplotlib.pyplot as plt"
   ]
  },
  {
   "cell_type": "code",
   "execution_count": 2,
   "metadata": {},
   "outputs": [],
   "source": [
    "R=np.array([16.3,22.9,25])"
   ]
  },
  {
   "cell_type": "code",
   "execution_count": 25,
   "metadata": {},
   "outputs": [
    {
     "data": {
      "text/plain": [
       "array([0.00041837, 0.00058777, 0.00064167])"
      ]
     },
     "execution_count": 25,
     "metadata": {},
     "output_type": "execute_result"
    }
   ],
   "source": [
    "QA=(0.077*R*10**-2)/30\n",
    "QA"
   ]
  },
  {
   "cell_type": "code",
   "execution_count": 210,
   "metadata": {},
   "outputs": [],
   "source": [
    "H=np.array([[0,1.85,1.9,3,3,3,3,2.85,2.8,2.1,0],[0,4.4,5.35,5.75,5.8,5.85,5.6,5.4,5.35,5,0],[0,6,7.1,7.6,7.8,7.85,7.3,7.1,6.5,4.8,0]])"
   ]
  },
  {
   "cell_type": "code",
   "execution_count": 211,
   "metadata": {},
   "outputs": [
    {
     "data": {
      "text/plain": [
       "array([[0.        , 0.60246992, 0.61055712, 0.76720271, 0.76720271,\n",
       "        0.76720271, 0.76720271, 0.7477767 , 0.74118824, 0.64188784,\n",
       "        0.        ],\n",
       "       [0.        , 0.92912862, 1.02453404, 1.06214406, 1.06675208,\n",
       "        1.07134028, 1.04819845, 1.02931045, 1.02453404, 0.99045444,\n",
       "        0.        ],\n",
       "       [0.        , 1.08498848, 1.18026268, 1.22111425, 1.2370772 ,\n",
       "        1.24103586, 1.19677065, 1.18026268, 1.12929181, 0.9704432 ,\n",
       "        0.        ]])"
      ]
     },
     "execution_count": 211,
     "metadata": {},
     "output_type": "execute_result"
    }
   ],
   "source": [
    "X=np.sqrt(2*9.81*H*10**-2)\n",
    "X"
   ]
  },
  {
   "cell_type": "code",
   "execution_count": 213,
   "metadata": {
    "scrolled": true
   },
   "outputs": [
    {
     "data": {
      "text/html": [
       "<div>\n",
       "<style scoped>\n",
       "    .dataframe tbody tr th:only-of-type {\n",
       "        vertical-align: middle;\n",
       "    }\n",
       "\n",
       "    .dataframe tbody tr th {\n",
       "        vertical-align: top;\n",
       "    }\n",
       "\n",
       "    .dataframe thead th {\n",
       "        text-align: right;\n",
       "    }\n",
       "</style>\n",
       "<table border=\"1\" class=\"dataframe\">\n",
       "  <thead>\n",
       "    <tr style=\"text-align: right;\">\n",
       "      <th></th>\n",
       "      <th>H1</th>\n",
       "      <th>H2</th>\n",
       "      <th>H3</th>\n",
       "    </tr>\n",
       "  </thead>\n",
       "  <tbody>\n",
       "    <tr>\n",
       "      <td>count</td>\n",
       "      <td>11.000000</td>\n",
       "      <td>11.000000</td>\n",
       "      <td>11.000000</td>\n",
       "    </tr>\n",
       "    <tr>\n",
       "      <td>mean</td>\n",
       "      <td>2.136364</td>\n",
       "      <td>4.409091</td>\n",
       "      <td>5.640909</td>\n",
       "    </tr>\n",
       "    <tr>\n",
       "      <td>std</td>\n",
       "      <td>1.148932</td>\n",
       "      <td>2.218312</td>\n",
       "      <td>2.925818</td>\n",
       "    </tr>\n",
       "    <tr>\n",
       "      <td>min</td>\n",
       "      <td>0.000000</td>\n",
       "      <td>0.000000</td>\n",
       "      <td>0.000000</td>\n",
       "    </tr>\n",
       "    <tr>\n",
       "      <td>25%</td>\n",
       "      <td>1.875000</td>\n",
       "      <td>4.700000</td>\n",
       "      <td>5.400000</td>\n",
       "    </tr>\n",
       "    <tr>\n",
       "      <td>50%</td>\n",
       "      <td>2.800000</td>\n",
       "      <td>5.350000</td>\n",
       "      <td>7.100000</td>\n",
       "    </tr>\n",
       "    <tr>\n",
       "      <td>75%</td>\n",
       "      <td>3.000000</td>\n",
       "      <td>5.675000</td>\n",
       "      <td>7.450000</td>\n",
       "    </tr>\n",
       "    <tr>\n",
       "      <td>max</td>\n",
       "      <td>3.000000</td>\n",
       "      <td>5.850000</td>\n",
       "      <td>7.850000</td>\n",
       "    </tr>\n",
       "  </tbody>\n",
       "</table>\n",
       "</div>"
      ],
      "text/plain": [
       "              H1         H2         H3\n",
       "count  11.000000  11.000000  11.000000\n",
       "mean    2.136364   4.409091   5.640909\n",
       "std     1.148932   2.218312   2.925818\n",
       "min     0.000000   0.000000   0.000000\n",
       "25%     1.875000   4.700000   5.400000\n",
       "50%     2.800000   5.350000   7.100000\n",
       "75%     3.000000   5.675000   7.450000\n",
       "max     3.000000   5.850000   7.850000"
      ]
     },
     "execution_count": 213,
     "metadata": {},
     "output_type": "execute_result"
    }
   ],
   "source": [
    "h=pd.DataFrame({\"H1\":H[0],\"H2\":H[1],\"H3\":H[2]})\n",
    "h.describe()"
   ]
  },
  {
   "cell_type": "code",
   "execution_count": 46,
   "metadata": {},
   "outputs": [
    {
     "data": {
      "text/plain": [
       "array([ 67.94400309,  95.45507182, 104.20859369])"
      ]
     },
     "execution_count": 46,
     "metadata": {},
     "output_type": "execute_result"
    }
   ],
   "source": [
    "Va=QA/a\n",
    "Va"
   ]
  },
  {
   "cell_type": "code",
   "execution_count": 151,
   "metadata": {},
   "outputs": [],
   "source": [
    "y1=0\n",
    "for i in X[0]:\n",
    "    y1+=i\n",
    "y2=0\n",
    "for i in X[1]:\n",
    "    y2+=i    \n",
    "y3=0\n",
    "for i in X[2]:\n",
    "    y3+=i"
   ]
  },
  {
   "cell_type": "code",
   "execution_count": 146,
   "metadata": {},
   "outputs": [
    {
     "data": {
      "text/plain": [
       "10.441246813808508"
      ]
     },
     "execution_count": 146,
     "metadata": {},
     "output_type": "execute_result"
    }
   ],
   "source": []
  },
  {
   "cell_type": "code",
   "execution_count": 152,
   "metadata": {},
   "outputs": [],
   "source": [
    "y1=y1/9\n",
    "y2=y2/9\n",
    "y3=y3/9"
   ]
  },
  {
   "cell_type": "code",
   "execution_count": 155,
   "metadata": {},
   "outputs": [
    {
     "name": "stdout",
     "output_type": "stream",
     "text": [
      "y1 : 0.7125211848906687\n",
      "y2 : 1.0273773854835464\n",
      "y3 : 1.160138534867612\n"
     ]
    }
   ],
   "source": [
    "print(\"y1 : \"+str(y1))\n",
    "print(\"y2 : \"+str(y2))\n",
    "print(\"y3 : \"+str(y3))"
   ]
  },
  {
   "cell_type": "code",
   "execution_count": 99,
   "metadata": {},
   "outputs": [],
   "source": [
    "a=(np.pi*(28*10**-3)**2)/4"
   ]
  },
  {
   "cell_type": "code",
   "execution_count": 100,
   "metadata": {},
   "outputs": [
    {
     "data": {
      "text/plain": [
       "0.0006157521601035995"
      ]
     },
     "execution_count": 100,
     "metadata": {},
     "output_type": "execute_result"
    }
   ],
   "source": [
    "a"
   ]
  },
  {
   "cell_type": "code",
   "execution_count": 198,
   "metadata": {},
   "outputs": [],
   "source": [
    "C1=0.7527\n",
    "C2=0.748\n",
    "C3=0.866"
   ]
  },
  {
   "cell_type": "code",
   "execution_count": 199,
   "metadata": {},
   "outputs": [
    {
     "name": "stdout",
     "output_type": "stream",
     "text": [
      "C1 : 0.7527\n",
      "C2 : 0.748\n",
      "C3 : 0.866\n"
     ]
    }
   ],
   "source": [
    "print(\"C1 : \"+str(C1))\n",
    "print(\"C2 : \"+str(C2))\n",
    "print(\"C3 : \"+str(C3))"
   ]
  },
  {
   "cell_type": "code",
   "execution_count": 200,
   "metadata": {},
   "outputs": [],
   "source": [
    "V1=C1*np.sqrt(2*9.81*H[0])\n",
    "V2=C2*np.sqrt(2*9.81*H[1])\n",
    "V3=C3*np.sqrt(2*9.81*H[2])\n"
   ]
  },
  {
   "cell_type": "code",
   "execution_count": 201,
   "metadata": {},
   "outputs": [],
   "source": [
    "r=np.array([-14,-10,-8,-6,-4,0,4,6,8,10,14])"
   ]
  },
  {
   "cell_type": "code",
   "execution_count": 202,
   "metadata": {},
   "outputs": [],
   "source": [
    "g=r/(14)"
   ]
  },
  {
   "cell_type": "code",
   "execution_count": 203,
   "metadata": {},
   "outputs": [
    {
     "data": {
      "text/plain": [
       "array([-1.        , -0.71428571, -0.57142857, -0.42857143, -0.28571429,\n",
       "        0.        ,  0.28571429,  0.42857143,  0.57142857,  0.71428571,\n",
       "        1.        ])"
      ]
     },
     "execution_count": 203,
     "metadata": {},
     "output_type": "execute_result"
    }
   ],
   "source": [
    "g"
   ]
  },
  {
   "cell_type": "code",
   "execution_count": 204,
   "metadata": {},
   "outputs": [
    {
     "data": {
      "image/png": "[encoded data removed]",
      "text/plain": [
       "<Figure size 360x1080 with 3 Axes>"
      ]
     },
     "metadata": {
      "needs_background": "light"
     },
     "output_type": "display_data"
    }
   ],
   "source": [
    "plt.figure(figsize=(5,15))\n",
    "plt.subplot(311)\n",
    "plt.title(\"Velocity Profile\")\n",
    "plt.xlabel(\"Velocity(V1)\")\n",
    "plt.ylabel(\"r/R\")\n",
    "plt.plot(V1,g,'ro-')\n",
    "plt.subplot(312)\n",
    "plt.title(\"Velocity Profile\")\n",
    "plt.xlabel(\"Velocity(V2)\")\n",
    "plt.ylabel(\"r/R\")\n",
    "plt.plot(V2,g,'b*-')\n",
    "plt.subplot(313)\n",
    "plt.title(\"Velocity Profile\")\n",
    "plt.xlabel(\"Velocity(V3)\")\n",
    "plt.ylabel(\"r/R\")\n",
    "plt.plot(V3,g,'g^-')\n",
    "\n",
    "\n",
    "plt.show()"
   ]
  },
  {
   "cell_type": "code",
   "execution_count": null,
   "metadata": {},
   "outputs": [],
   "source": []
  }
 ],
 "metadata": {
  "kernelspec": {
   "display_name": "Python 3",
   "language": "python",
   "name": "python3"
  },
  "language_info": {
   "codemirror_mode": {
    "name": "ipython",
    "version": 3
   },
   "file_extension": ".py",
   "mimetype": "text/x-python",
   "name": "python",
   "nbconvert_exporter": "python",
   "pygments_lexer": "ipython3",
   "version": "3.7.4"
  }
 },
 "nbformat": 4,
 "nbformat_minor": 2
}
