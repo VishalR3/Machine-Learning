{
 "cells": [
  {
   "cell_type": "code",
   "execution_count": 2,
   "metadata": {},
   "outputs": [],
   "source": [
    "import numpy as np\n",
    "import pandas as pd\n",
    "from matplotlib import pyplot as plt\n",
    "import seaborn as sns"
   ]
  },
  {
   "cell_type": "code",
   "execution_count": 3,
   "metadata": {},
   "outputs": [],
   "source": [
    "q=np.array([1.11,3.33,5.56,7.78,8.89,10,11.11,12.22,13.33,14.44,15.56,16.67,17.78])"
   ]
  },
  {
   "cell_type": "code",
   "execution_count": 4,
   "metadata": {},
   "outputs": [
    {
     "data": {
      "text/plain": [
       "0.00011300000000000002"
      ]
     },
     "execution_count": 4,
     "metadata": {},
     "output_type": "execute_result"
    }
   ],
   "source": [
    "s=11.3*10**-5\n",
    "s"
   ]
  },
  {
   "cell_type": "code",
   "execution_count": 5,
   "metadata": {},
   "outputs": [
    {
     "data": {
      "text/plain": [
       "array([0.09823009, 0.29469027, 0.4920354 , 0.68849558, 0.78672566,\n",
       "       0.88495575, 0.98318584, 1.08141593, 1.17964602, 1.27787611,\n",
       "       1.37699115, 1.47522124, 1.57345133])"
      ]
     },
     "execution_count": 5,
     "metadata": {},
     "output_type": "execute_result"
    }
   ],
   "source": [
    "u=q/s*10**-5\n",
    "u"
   ]
  },
  {
   "cell_type": "code",
   "execution_count": 6,
   "metadata": {},
   "outputs": [
    {
     "data": {
      "text/html": [
       "<div>\n",
       "<style scoped>\n",
       "    .dataframe tbody tr th:only-of-type {\n",
       "        vertical-align: middle;\n",
       "    }\n",
       "\n",
       "    .dataframe tbody tr th {\n",
       "        vertical-align: top;\n",
       "    }\n",
       "\n",
       "    .dataframe thead th {\n",
       "        text-align: right;\n",
       "    }\n",
       "</style>\n",
       "<table border=\"1\" class=\"dataframe\">\n",
       "  <thead>\n",
       "    <tr style=\"text-align: right;\">\n",
       "      <th></th>\n",
       "      <th>u(m/s)</th>\n",
       "    </tr>\n",
       "  </thead>\n",
       "  <tbody>\n",
       "    <tr>\n",
       "      <td>0</td>\n",
       "      <td>0.098230</td>\n",
       "    </tr>\n",
       "    <tr>\n",
       "      <td>1</td>\n",
       "      <td>0.294690</td>\n",
       "    </tr>\n",
       "    <tr>\n",
       "      <td>2</td>\n",
       "      <td>0.492035</td>\n",
       "    </tr>\n",
       "    <tr>\n",
       "      <td>3</td>\n",
       "      <td>0.688496</td>\n",
       "    </tr>\n",
       "    <tr>\n",
       "      <td>4</td>\n",
       "      <td>0.786726</td>\n",
       "    </tr>\n",
       "    <tr>\n",
       "      <td>5</td>\n",
       "      <td>0.884956</td>\n",
       "    </tr>\n",
       "    <tr>\n",
       "      <td>6</td>\n",
       "      <td>0.983186</td>\n",
       "    </tr>\n",
       "    <tr>\n",
       "      <td>7</td>\n",
       "      <td>1.081416</td>\n",
       "    </tr>\n",
       "    <tr>\n",
       "      <td>8</td>\n",
       "      <td>1.179646</td>\n",
       "    </tr>\n",
       "    <tr>\n",
       "      <td>9</td>\n",
       "      <td>1.277876</td>\n",
       "    </tr>\n",
       "    <tr>\n",
       "      <td>10</td>\n",
       "      <td>1.376991</td>\n",
       "    </tr>\n",
       "    <tr>\n",
       "      <td>11</td>\n",
       "      <td>1.475221</td>\n",
       "    </tr>\n",
       "    <tr>\n",
       "      <td>12</td>\n",
       "      <td>1.573451</td>\n",
       "    </tr>\n",
       "  </tbody>\n",
       "</table>\n",
       "</div>"
      ],
      "text/plain": [
       "      u(m/s)\n",
       "0   0.098230\n",
       "1   0.294690\n",
       "2   0.492035\n",
       "3   0.688496\n",
       "4   0.786726\n",
       "5   0.884956\n",
       "6   0.983186\n",
       "7   1.081416\n",
       "8   1.179646\n",
       "9   1.277876\n",
       "10  1.376991\n",
       "11  1.475221\n",
       "12  1.573451"
      ]
     },
     "execution_count": 6,
     "metadata": {},
     "output_type": "execute_result"
    }
   ],
   "source": [
    "data=pd.DataFrame({\"u(m/s)\":u})\n",
    "data"
   ]
  },
  {
   "cell_type": "code",
   "execution_count": 7,
   "metadata": {},
   "outputs": [],
   "source": [
    "Re=1000*12*u"
   ]
  },
  {
   "cell_type": "code",
   "execution_count": null,
   "metadata": {},
   "outputs": [],
   "source": []
  },
  {
   "cell_type": "code",
   "execution_count": 11,
   "metadata": {},
   "outputs": [
    {
     "data": {
      "text/plain": [
       "0.21081851067789195"
      ]
     },
     "execution_count": 11,
     "metadata": {},
     "output_type": "execute_result"
    }
   ],
   "source": [
    "a=(0.012/0.27)**0.5\n",
    "a"
   ]
  },
  {
   "cell_type": "code",
   "execution_count": 13,
   "metadata": {},
   "outputs": [],
   "source": [
    "Dn=Re*a"
   ]
  },
  {
   "cell_type": "code",
   "execution_count": 14,
   "metadata": {},
   "outputs": [],
   "source": [
    "P=np.array([493.92,1605.24,3580.92,5727.04,8396.64,9693.18,10372.32,13446.9,14941.08,18398.52,21609,24572,26671.68])"
   ]
  },
  {
   "cell_type": "code",
   "execution_count": 15,
   "metadata": {},
   "outputs": [],
   "source": [
    "fc=((2*0.012*P)/(4*11.875*(u**2)))*10**-3"
   ]
  },
  {
   "cell_type": "code",
   "execution_count": 16,
   "metadata": {},
   "outputs": [],
   "source": [
    "f=np.array([])\n",
    "for val in Re:\n",
    "    if(val<7384):\n",
    "        sol=6.82*((0.012/0.27)**0.25)*(val**-0.5)\n",
    "        f=np.append(f,sol)\n",
    "    else:\n",
    "        sol=0.012*a + 0.08*val**-0.25\n",
    "        f=np.append(f,sol)\n",
    "        "
   ]
  },
  {
   "cell_type": "code",
   "execution_count": 17,
   "metadata": {},
   "outputs": [],
   "source": [
    "index=np.arange(1,14,1)"
   ]
  },
  {
   "cell_type": "code",
   "execution_count": 33,
   "metadata": {},
   "outputs": [
    {
     "data": {
      "text/html": [
       "<div>\n",
       "<style scoped>\n",
       "    .dataframe tbody tr th:only-of-type {\n",
       "        vertical-align: middle;\n",
       "    }\n",
       "\n",
       "    .dataframe tbody tr th {\n",
       "        vertical-align: top;\n",
       "    }\n",
       "\n",
       "    .dataframe thead th {\n",
       "        text-align: right;\n",
       "    }\n",
       "</style>\n",
       "<table border=\"1\" class=\"dataframe\">\n",
       "  <thead>\n",
       "    <tr style=\"text-align: right;\">\n",
       "      <th></th>\n",
       "      <th>u (m/s)</th>\n",
       "      <th>Re</th>\n",
       "      <th>Dn</th>\n",
       "      <th>P</th>\n",
       "      <th>fc</th>\n",
       "      <th>f</th>\n",
       "    </tr>\n",
       "    <tr>\n",
       "      <th>S.No.</th>\n",
       "      <th></th>\n",
       "      <th></th>\n",
       "      <th></th>\n",
       "      <th></th>\n",
       "      <th></th>\n",
       "      <th></th>\n",
       "    </tr>\n",
       "  </thead>\n",
       "  <tbody>\n",
       "    <tr>\n",
       "      <td>1</td>\n",
       "      <td>0.098230</td>\n",
       "      <td>1178.761062</td>\n",
       "      <td>248.504652</td>\n",
       "      <td>493.92</td>\n",
       "      <td>0.025863</td>\n",
       "      <td>0.091207</td>\n",
       "    </tr>\n",
       "    <tr>\n",
       "      <td>2</td>\n",
       "      <td>0.294690</td>\n",
       "      <td>3536.283186</td>\n",
       "      <td>745.513955</td>\n",
       "      <td>1605.24</td>\n",
       "      <td>0.009340</td>\n",
       "      <td>0.052658</td>\n",
       "    </tr>\n",
       "    <tr>\n",
       "      <td>3</td>\n",
       "      <td>0.492035</td>\n",
       "      <td>5904.424779</td>\n",
       "      <td>1244.762038</td>\n",
       "      <td>3580.92</td>\n",
       "      <td>0.007473</td>\n",
       "      <td>0.040752</td>\n",
       "    </tr>\n",
       "    <tr>\n",
       "      <td>4</td>\n",
       "      <td>0.688496</td>\n",
       "      <td>8261.946903</td>\n",
       "      <td>1741.771341</td>\n",
       "      <td>5727.04</td>\n",
       "      <td>0.006104</td>\n",
       "      <td>0.010921</td>\n",
       "    </tr>\n",
       "    <tr>\n",
       "      <td>5</td>\n",
       "      <td>0.786726</td>\n",
       "      <td>9440.707965</td>\n",
       "      <td>1990.275993</td>\n",
       "      <td>8396.64</td>\n",
       "      <td>0.006855</td>\n",
       "      <td>0.010646</td>\n",
       "    </tr>\n",
       "    <tr>\n",
       "      <td>6</td>\n",
       "      <td>0.884956</td>\n",
       "      <td>10619.469027</td>\n",
       "      <td>2238.780644</td>\n",
       "      <td>9693.18</td>\n",
       "      <td>0.006254</td>\n",
       "      <td>0.010411</td>\n",
       "    </tr>\n",
       "    <tr>\n",
       "      <td>7</td>\n",
       "      <td>0.983186</td>\n",
       "      <td>11798.230088</td>\n",
       "      <td>2487.285296</td>\n",
       "      <td>10372.32</td>\n",
       "      <td>0.005422</td>\n",
       "      <td>0.010206</td>\n",
       "    </tr>\n",
       "    <tr>\n",
       "      <td>8</td>\n",
       "      <td>1.081416</td>\n",
       "      <td>12976.991150</td>\n",
       "      <td>2735.789947</td>\n",
       "      <td>13446.90</td>\n",
       "      <td>0.005810</td>\n",
       "      <td>0.010025</td>\n",
       "    </tr>\n",
       "    <tr>\n",
       "      <td>9</td>\n",
       "      <td>1.179646</td>\n",
       "      <td>14155.752212</td>\n",
       "      <td>2984.294599</td>\n",
       "      <td>14941.08</td>\n",
       "      <td>0.005425</td>\n",
       "      <td>0.009864</td>\n",
       "    </tr>\n",
       "    <tr>\n",
       "      <td>10</td>\n",
       "      <td>1.277876</td>\n",
       "      <td>15334.513274</td>\n",
       "      <td>3232.799250</td>\n",
       "      <td>18398.52</td>\n",
       "      <td>0.005693</td>\n",
       "      <td>0.009719</td>\n",
       "    </tr>\n",
       "    <tr>\n",
       "      <td>11</td>\n",
       "      <td>1.376991</td>\n",
       "      <td>16523.893805</td>\n",
       "      <td>3483.542683</td>\n",
       "      <td>21609.00</td>\n",
       "      <td>0.005758</td>\n",
       "      <td>0.009586</td>\n",
       "    </tr>\n",
       "    <tr>\n",
       "      <td>12</td>\n",
       "      <td>1.475221</td>\n",
       "      <td>17702.654867</td>\n",
       "      <td>3732.047334</td>\n",
       "      <td>24572.00</td>\n",
       "      <td>0.005705</td>\n",
       "      <td>0.009465</td>\n",
       "    </tr>\n",
       "    <tr>\n",
       "      <td>13</td>\n",
       "      <td>1.573451</td>\n",
       "      <td>18881.415929</td>\n",
       "      <td>3980.551986</td>\n",
       "      <td>26671.68</td>\n",
       "      <td>0.005443</td>\n",
       "      <td>0.009354</td>\n",
       "    </tr>\n",
       "  </tbody>\n",
       "</table>\n",
       "</div>"
      ],
      "text/plain": [
       "        u (m/s)            Re           Dn         P        fc         f\n",
       "S.No.                                                                   \n",
       "1      0.098230   1178.761062   248.504652    493.92  0.025863  0.091207\n",
       "2      0.294690   3536.283186   745.513955   1605.24  0.009340  0.052658\n",
       "3      0.492035   5904.424779  1244.762038   3580.92  0.007473  0.040752\n",
       "4      0.688496   8261.946903  1741.771341   5727.04  0.006104  0.010921\n",
       "5      0.786726   9440.707965  1990.275993   8396.64  0.006855  0.010646\n",
       "6      0.884956  10619.469027  2238.780644   9693.18  0.006254  0.010411\n",
       "7      0.983186  11798.230088  2487.285296  10372.32  0.005422  0.010206\n",
       "8      1.081416  12976.991150  2735.789947  13446.90  0.005810  0.010025\n",
       "9      1.179646  14155.752212  2984.294599  14941.08  0.005425  0.009864\n",
       "10     1.277876  15334.513274  3232.799250  18398.52  0.005693  0.009719\n",
       "11     1.376991  16523.893805  3483.542683  21609.00  0.005758  0.009586\n",
       "12     1.475221  17702.654867  3732.047334  24572.00  0.005705  0.009465\n",
       "13     1.573451  18881.415929  3980.551986  26671.68  0.005443  0.009354"
      ]
     },
     "execution_count": 33,
     "metadata": {},
     "output_type": "execute_result"
    }
   ],
   "source": [
    "data=pd.DataFrame({\"S.No.\":index,\"u (m/s)\":u,\"Re\":Re,\"Dn\":Dn,\"P\":P,\"fc\":fc,\"f\":f})\n",
    "data.set_index(\"S.No.\",inplace=True)\n",
    "data"
   ]
  },
  {
   "cell_type": "code",
   "execution_count": 46,
   "metadata": {},
   "outputs": [
    {
     "data": {
      "text/plain": [
       "Int64Index([1, 2, 3, 4, 5, 6, 7, 8, 9, 10, 11, 12, 13], dtype='int64', name='S.No.')"
      ]
     },
     "execution_count": 46,
     "metadata": {},
     "output_type": "execute_result"
    }
   ],
   "source": [
    "data.index"
   ]
  },
  {
   "cell_type": "code",
   "execution_count": 65,
   "metadata": {},
   "outputs": [
    {
     "data": {
      "image/png": "[encoded data removed]",
      "text/plain": [
       "<Figure size 1080x360 with 2 Axes>"
      ]
     },
     "metadata": {
      "needs_background": "light"
     },
     "output_type": "display_data"
    }
   ],
   "source": [
    "plt.figure(figsize=(15,5))\n",
    "plt.subplot(121)\n",
    "plt.title(\"Friction Factor\")\n",
    "plt.ylabel(\"fc\")\n",
    "plt.xlabel(\"S.No.\")\n",
    "plt.plot(data.index,data[\"fc\"])\n",
    "\n",
    "plt.subplot(122)\n",
    "plt.title(\"Theoretical Friction Factor\")\n",
    "plt.ylabel(\"fc\")\n",
    "plt.xlabel(\"S.No.\")\n",
    "plt.plot(data.index,data.f)\n",
    "plt.show()"
   ]
  },
  {
   "cell_type": "code",
   "execution_count": 20,
   "metadata": {},
   "outputs": [
    {
     "data": {
      "text/plain": [
       "array([ 1,  2,  3,  4,  5,  6,  7,  8,  9, 10, 11, 12, 13])"
      ]
     },
     "execution_count": 20,
     "metadata": {},
     "output_type": "execute_result"
    },
    {
     "data": {
      "image/png": "[encoded data removed]",
      "text/plain": [
       "<Figure size 432x288 with 1 Axes>"
      ]
     },
     "metadata": {
      "needs_background": "light"
     },
     "output_type": "display_data"
    }
   ],
   "source": [
    "x=np.arange(1,14,1)\n",
    "plt.bar(x,data.fc)\n",
    "x"
   ]
  },
  {
   "cell_type": "code",
   "execution_count": 63,
   "metadata": {},
   "outputs": [
    {
     "data": {
      "image/png": "[encoded data removed]",
      "text/plain": [
       "<Figure size 720x720 with 1 Axes>"
      ]
     },
     "metadata": {
      "needs_background": "light"
     },
     "output_type": "display_data"
    }
   ],
   "source": [
    "plt.figure(figsize=(10,10))\n",
    "plt.plot(data.Re,data.fc)\n",
    "plt.xlabel(\"Re\")\n",
    "plt.ylabel(\"fc\")\n",
    "plt.title(\"Frictional Factor v/s Reynolds Number\")\n",
    "plt.show()"
   ]
  },
  {
   "cell_type": "code",
   "execution_count": null,
   "metadata": {},
   "outputs": [],
   "source": []
  }
 ],
 "metadata": {
  "kernelspec": {
   "display_name": "Python 3",
   "language": "python",
   "name": "python3"
  },
  "language_info": {
   "codemirror_mode": {
    "name": "ipython",
    "version": 3
   },
   "file_extension": ".py",
   "mimetype": "text/x-python",
   "name": "python",
   "nbconvert_exporter": "python",
   "pygments_lexer": "ipython3",
   "version": "3.7.4"
  }
 },
 "nbformat": 4,
 "nbformat_minor": 2
}
